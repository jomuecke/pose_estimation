{
 "cells": [
  {
   "cell_type": "markdown",
   "id": "c89348e3",
   "metadata": {},
   "source": [
    "### Filter annotation.csv based on folder"
   ]
  },
  {
   "cell_type": "code",
   "execution_count": 1,
   "id": "0e627bde",
   "metadata": {},
   "outputs": [
    {
     "name": "stdout",
     "output_type": "stream",
     "text": [
      "Filtered CSV saved to /Users/jonasmucke/Desktop/filtered/filtered_annotations.csv. Rows retained: 198\n"
     ]
    }
   ],
   "source": [
    "import os\n",
    "import pandas as pd\n",
    "\n",
    "# Set paths\n",
    "image_folder = '/Users/jonasmucke/Desktop/filtered'       # Replace with the path to your image folder\n",
    "csv_file = '/Users/jonasmucke/Desktop/pose_estimation/Rat/top/annotations_tes.csv'         # Replace with the path to your annotation.csv\n",
    "output_csv = '/Users/jonasmucke/Desktop/filtered/filtered_annotations.csv'          # Output path for the filtered CSV\n",
    "\n",
    "# Get list of image filenames in the folder\n",
    "image_filenames = set(os.listdir(image_folder))\n",
    "\n",
    "# Load the CSV\n",
    "df = pd.read_csv(csv_file)\n",
    "\n",
    "# Filter rows where 'filename' column matches a file in the folder\n",
    "filtered_df = df[df['filename'].isin(image_filenames)]\n",
    "\n",
    "# Save the filtered DataFrame to a new CSV file\n",
    "filtered_df.to_csv(output_csv, index=False)\n",
    "\n",
    "print(f\"Filtered CSV saved to {output_csv}. Rows retained: {len(filtered_df)}\")\n"
   ]
  }
 ],
 "metadata": {
  "kernelspec": {
   "display_name": "venv",
   "language": "python",
   "name": "python3"
  },
  "language_info": {
   "codemirror_mode": {
    "name": "ipython",
    "version": 3
   },
   "file_extension": ".py",
   "mimetype": "text/x-python",
   "name": "python",
   "nbconvert_exporter": "python",
   "pygments_lexer": "ipython3",
   "version": "3.10.10"
  }
 },
 "nbformat": 4,
 "nbformat_minor": 5
}
